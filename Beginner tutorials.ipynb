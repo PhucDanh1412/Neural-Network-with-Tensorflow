{
 "cells": [
  {
   "cell_type": "code",
   "execution_count": 7,
   "id": "8ef0a40e",
   "metadata": {},
   "outputs": [],
   "source": [
    "import tensorflow as tf\n",
    "import os\n",
    "os.environ['TF_CPP_MIN_LOG_LEVEL'] = '2'"
   ]
  },
  {
   "cell_type": "code",
   "execution_count": 33,
   "id": "be6720aa",
   "metadata": {},
   "outputs": [
    {
     "name": "stdout",
     "output_type": "stream",
     "text": [
      "tf.Tensor([1. 3. 5. 7. 9.], shape=(5,), dtype=float64)\n"
     ]
    }
   ],
   "source": [
    "# Initialization of tensors\n",
    "x = tf.constant(4.0, shape = (1,1), dtype = tf.float32)\n",
    "x = tf.constant([[1,2,3],[4,5,6]])\n",
    "x = tf.ones((3,3))\n",
    "x = tf.zeros((2,3))\n",
    "x = tf.eye(3)\n",
    "x = tf.random.normal((3,3), mean = 0, stddev = 1)\n",
    "x = tf.random.uniform((1,3), minval = 0, maxval = 1)\n",
    "x = tf.range(start = 1, limit =10, delta = 2)\n",
    "x = tf.cast(x,dtype=tf.float64)\n",
    "#tf.float (16, 32, 64), tf.int (8,16,32,64), tf.bool\n",
    "print(x)"
   ]
  },
  {
   "cell_type": "code",
   "execution_count": 47,
   "id": "459d2caf",
   "metadata": {},
   "outputs": [
    {
     "name": "stdout",
     "output_type": "stream",
     "text": [
      "tf.Tensor(\n",
      "[[-1.0790846   0.95670277  0.73848045 -0.24857454]\n",
      " [ 3.3893847   2.3274462  -1.2413924   2.2559571 ]], shape=(2, 4), dtype=float32)\n",
      "tf.Tensor(\n",
      "[[-1.0790846   0.95670277  0.73848045 -0.24857454]\n",
      " [ 3.3893847   2.3274462  -1.2413924   2.2559571 ]], shape=(2, 4), dtype=float32)\n"
     ]
    }
   ],
   "source": [
    "# mathematical Operations\n",
    "x = tf.constant([1,2,3])\n",
    "y = tf.constant([9,8,7])\n",
    "z = tf.add(x,y)\n",
    "z = x + y\n",
    "z = tf.subtract(x,y)\n",
    "z = x - y\n",
    "z = tf.divide(x, y)\n",
    "z = x / y\n",
    "z = tf.multiply(x, y)\n",
    "z = x * y\n",
    "z = tf.tensordot(x, y, axes = 1)\n",
    "z = tf.reduce_sum(x*y, axis = 0)\n",
    "z = x ** 5\n",
    "\n",
    "x = tf.random.normal((2,3))\n",
    "y = tf.random.normal((3,4))\n",
    "z = tf.matmul(x,y)\n",
    "print(z)\n",
    "z = x @ y\n",
    "print(z)"
   ]
  },
  {
   "cell_type": "code",
   "execution_count": 59,
   "id": "0b41988b",
   "metadata": {
    "scrolled": true
   },
   "outputs": [
    {
     "name": "stdout",
     "output_type": "stream",
     "text": [
      "tf.Tensor([0 1 1 2 3 1 2 3], shape=(8,), dtype=int32)\n",
      "tf.Tensor([1 1 2 3 1 2 3], shape=(7,), dtype=int32)\n",
      "tf.Tensor([1 1], shape=(2,), dtype=int32)\n",
      "tf.Tensor([0 1 3 2], shape=(4,), dtype=int32)\n",
      "tf.Tensor([3 2 1 3 2 1 1 0], shape=(8,), dtype=int32)\n",
      "tf.Tensor([1 2], shape=(2,), dtype=int32)\n",
      "tf.Tensor(\n",
      "[[1 2]\n",
      " [3 4]], shape=(2, 2), dtype=int32)\n",
      "tf.Tensor([0 1 2 3 4 5 6 7 8], shape=(9,), dtype=int32)\n",
      "tf.Tensor(\n",
      "[[0 1 2]\n",
      " [3 4 5]\n",
      " [6 7 8]], shape=(3, 3), dtype=int32)\n",
      "tf.Tensor(\n",
      "[[0 3 6]\n",
      " [1 4 7]\n",
      " [2 5 8]], shape=(3, 3), dtype=int32)\n"
     ]
    }
   ],
   "source": [
    "#indexing\n",
    "x = tf.constant([0,1,1,2,3,1,2,3])\n",
    "print(x[:])\n",
    "print(x[1:])\n",
    "print(x[1:3])\n",
    "print(x[::2])\n",
    "print(x[::-1])\n",
    "indices = tf.constant([0,3])\n",
    "x_ind = tf.gather(x, indices)\n",
    "x = tf.constant([[1,2],[3,4],[5,6]])\n",
    "print(x[0,:])\n",
    "print(x[:2,:])\n",
    "x = tf.range(9)\n",
    "print(x)\n",
    "x = tf.reshape(x,(3,3))\n",
    "print(x)\n",
    "x = tf.transpose(x, perm=[1,0])\n",
    "print(x)"
   ]
  }
 ],
 "metadata": {
  "kernelspec": {
   "display_name": "Python 3 (ipykernel)",
   "language": "python",
   "name": "python3"
  },
  "language_info": {
   "codemirror_mode": {
    "name": "ipython",
    "version": 3
   },
   "file_extension": ".py",
   "mimetype": "text/x-python",
   "name": "python",
   "nbconvert_exporter": "python",
   "pygments_lexer": "ipython3",
   "version": "3.9.12"
  }
 },
 "nbformat": 4,
 "nbformat_minor": 5
}
