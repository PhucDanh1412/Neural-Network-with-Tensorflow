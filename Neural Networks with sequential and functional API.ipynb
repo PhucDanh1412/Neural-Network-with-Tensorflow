{
 "cells": [
  {
   "cell_type": "code",
   "execution_count": 2,
   "id": "94d7cdb6",
   "metadata": {},
   "outputs": [],
   "source": [
    "import tensorflow as tf\n",
    "import os\n",
    "os.environ['TF_CPP_MIN_LOG_LEVEL'] = '2'\n",
    "from tensorflow import keras\n",
    "from tensorflow.keras import layers\n",
    "from tensorflow.keras.datasets import mnist"
   ]
  },
  {
   "cell_type": "code",
   "execution_count": 3,
   "id": "cf31550e",
   "metadata": {},
   "outputs": [],
   "source": [
    "#loading dataset\n",
    "(x_train, y_train), (x_test, y_test) = mnist.load_data()\n",
    "x_train = x_train.reshape(-1,28*28).astype(\"float32\") / 255.0\n",
    "x_test = x_test.reshape(-1,28*28).astype(\"float32\") / 255.0"
   ]
  },
  {
   "cell_type": "code",
   "execution_count": 4,
   "id": "7f9f889f",
   "metadata": {},
   "outputs": [
    {
     "name": "stdout",
     "output_type": "stream",
     "text": [
      "Epoch 1/5\n",
      "1875/1875 - 23s - loss: 0.1860 - accuracy: 0.9441 - 23s/epoch - 12ms/step\n",
      "Epoch 2/5\n",
      "1875/1875 - 20s - loss: 0.0803 - accuracy: 0.9749 - 20s/epoch - 11ms/step\n",
      "Epoch 3/5\n",
      "1875/1875 - 21s - loss: 0.0537 - accuracy: 0.9831 - 21s/epoch - 11ms/step\n",
      "Epoch 4/5\n",
      "1875/1875 - 20s - loss: 0.0421 - accuracy: 0.9866 - 20s/epoch - 11ms/step\n",
      "Epoch 5/5\n",
      "1875/1875 - 19s - loss: 0.0309 - accuracy: 0.9899 - 19s/epoch - 10ms/step\n",
      "313/313 - 1s - loss: 0.0953 - accuracy: 0.9764 - 1s/epoch - 5ms/step\n"
     ]
    },
    {
     "data": {
      "text/plain": [
       "[0.09529119729995728, 0.9764000177383423]"
      ]
     },
     "execution_count": 4,
     "metadata": {},
     "output_type": "execute_result"
    }
   ],
   "source": [
    "#create a basic neural network\n",
    "# sequential API (very convenient, not very flexible)\n",
    "model = keras.Sequential(\n",
    "    [\n",
    "        keras.Input(shape=(28*28)),\n",
    "        layers.Dense(512, activation = 'relu'),\n",
    "        layers.Dense(256, activation = 'relu'),\n",
    "        layers.Dense(10),\n",
    "    ]\n",
    ")   \n",
    "\n",
    "model.compile(\n",
    "    loss = keras.losses.SparseCategoricalCrossentropy(from_logits = True),\n",
    "    optimizer = keras.optimizers.Adam(learning_rate = 0.001),\n",
    "    metrics = ['accuracy'],\n",
    ")\n",
    "\n",
    "model.fit(x_train, y_train, batch_size = 32, epochs=5, verbose=2)\n",
    "model.evaluate(x_test, y_test, batch_size = 32, verbose =2)"
   ]
  },
  {
   "cell_type": "code",
   "execution_count": 5,
   "id": "7a52ca95",
   "metadata": {},
   "outputs": [
    {
     "name": "stdout",
     "output_type": "stream",
     "text": [
      "Epoch 1/5\n",
      "1875/1875 - 20s - loss: 0.1884 - accuracy: 0.9433 - 20s/epoch - 11ms/step\n",
      "Epoch 2/5\n",
      "1875/1875 - 20s - loss: 0.0798 - accuracy: 0.9750 - 20s/epoch - 11ms/step\n",
      "Epoch 3/5\n",
      "1875/1875 - 18s - loss: 0.0564 - accuracy: 0.9822 - 18s/epoch - 10ms/step\n",
      "Epoch 4/5\n",
      "1875/1875 - 21s - loss: 0.0415 - accuracy: 0.9866 - 21s/epoch - 11ms/step\n",
      "Epoch 5/5\n",
      "1875/1875 - 20s - loss: 0.0320 - accuracy: 0.9895 - 20s/epoch - 10ms/step\n",
      "313/313 - 1s - loss: 0.0936 - accuracy: 0.9759 - 1s/epoch - 5ms/step\n"
     ]
    },
    {
     "data": {
      "text/plain": [
       "[0.09363456815481186, 0.9758999943733215]"
      ]
     },
     "execution_count": 5,
     "metadata": {},
     "output_type": "execute_result"
    }
   ],
   "source": [
    "# another way to create sequential api\n",
    "model = keras.Sequential()\n",
    "model.add(keras.Input(shape=(784)))\n",
    "model.add(layers.Dense(512, activation = 'relu'))\n",
    "model.add(layers.Dense(256, activation = 'relu'))\n",
    "model.add(layers.Dense(10))\n",
    "\n",
    "model.compile(\n",
    "    loss = keras.losses.SparseCategoricalCrossentropy(from_logits = True),\n",
    "    optimizer = keras.optimizers.Adam(learning_rate = 0.001),\n",
    "    metrics = ['accuracy'],\n",
    ")\n",
    "\n",
    "model.fit(x_train, y_train, batch_size = 32, epochs=5, verbose=2)\n",
    "model.evaluate(x_test, y_test, batch_size = 32, verbose =2)"
   ]
  },
  {
   "cell_type": "code",
   "execution_count": 7,
   "id": "348bb96e",
   "metadata": {},
   "outputs": [
    {
     "ename": "AttributeError",
     "evalue": "module 'keras.api._v2.keras.layers' has no attribute 'output'",
     "output_type": "error",
     "traceback": [
      "\u001b[1;31m---------------------------------------------------------------------------\u001b[0m",
      "\u001b[1;31mAttributeError\u001b[0m                            Traceback (most recent call last)",
      "Input \u001b[1;32mIn [7]\u001b[0m, in \u001b[0;36m<cell line: 2>\u001b[1;34m()\u001b[0m\n\u001b[0;32m      1\u001b[0m \u001b[38;5;66;03m# extracting all the layers \u001b[39;00m\n\u001b[1;32m----> 2\u001b[0m model \u001b[38;5;241m=\u001b[39m keras\u001b[38;5;241m.\u001b[39mModel(inputs\u001b[38;5;241m=\u001b[39mmodel\u001b[38;5;241m.\u001b[39minputs, outputs\u001b[38;5;241m=\u001b[39m[layers\u001b[38;5;241m.\u001b[39moutput \u001b[38;5;28;01mfor\u001b[39;00m layer \u001b[38;5;129;01min\u001b[39;00m model\u001b[38;5;241m.\u001b[39mlayers])\n\u001b[0;32m      3\u001b[0m features \u001b[38;5;241m=\u001b[39m model\u001b[38;5;241m.\u001b[39mpredict(x_train)\n\u001b[0;32m      4\u001b[0m \u001b[38;5;28;01mfor\u001b[39;00m feature \u001b[38;5;129;01min\u001b[39;00m features:\n",
      "Input \u001b[1;32mIn [7]\u001b[0m, in \u001b[0;36m<listcomp>\u001b[1;34m(.0)\u001b[0m\n\u001b[0;32m      1\u001b[0m \u001b[38;5;66;03m# extracting all the layers \u001b[39;00m\n\u001b[1;32m----> 2\u001b[0m model \u001b[38;5;241m=\u001b[39m keras\u001b[38;5;241m.\u001b[39mModel(inputs\u001b[38;5;241m=\u001b[39mmodel\u001b[38;5;241m.\u001b[39minputs, outputs\u001b[38;5;241m=\u001b[39m[\u001b[43mlayers\u001b[49m\u001b[38;5;241;43m.\u001b[39;49m\u001b[43moutput\u001b[49m \u001b[38;5;28;01mfor\u001b[39;00m layer \u001b[38;5;129;01min\u001b[39;00m model\u001b[38;5;241m.\u001b[39mlayers])\n\u001b[0;32m      3\u001b[0m features \u001b[38;5;241m=\u001b[39m model\u001b[38;5;241m.\u001b[39mpredict(x_train)\n\u001b[0;32m      4\u001b[0m \u001b[38;5;28;01mfor\u001b[39;00m feature \u001b[38;5;129;01min\u001b[39;00m features:\n",
      "\u001b[1;31mAttributeError\u001b[0m: module 'keras.api._v2.keras.layers' has no attribute 'output'"
     ]
    }
   ],
   "source": [
    "# extracting all the layers \n",
    "model = keras.Model(inputs=model.inputs, outputs=[layers.output for layer in model.layers])\n",
    "features = model.predict(x_train)\n",
    "for feature in features:\n",
    "    print(feature.shape)"
   ]
  },
  {
   "cell_type": "code",
   "execution_count": 10,
   "id": "8234a994",
   "metadata": {},
   "outputs": [
    {
     "name": "stdout",
     "output_type": "stream",
     "text": [
      "1875/1875 [==============================] - 4s 2ms/step\n",
      "(60000, 784)\n"
     ]
    }
   ],
   "source": [
    "# extracting specific layer features\n",
    "model = keras.Model(inputs=model.inputs, outputs=[model.layers[-2].output])\n",
    "features = model.predict(x_train)\n",
    "print(features.shape)"
   ]
  },
  {
   "cell_type": "code",
   "execution_count": 11,
   "id": "7d1c489f",
   "metadata": {},
   "outputs": [
    {
     "name": "stdout",
     "output_type": "stream",
     "text": [
      "Model: \"model_1\"\n",
      "_________________________________________________________________\n",
      " Layer (type)                Output Shape              Param #   \n",
      "=================================================================\n",
      " input_7 (InputLayer)        [(None, 784)]             0         \n",
      "                                                                 \n",
      " dense_21 (Dense)            (None, 512)               401920    \n",
      "                                                                 \n",
      " dense_22 (Dense)            (None, 256)               131328    \n",
      "                                                                 \n",
      " dense_23 (Dense)            (None, 10)                2570      \n",
      "                                                                 \n",
      "=================================================================\n",
      "Total params: 535,818\n",
      "Trainable params: 535,818\n",
      "Non-trainable params: 0\n",
      "_________________________________________________________________\n",
      "None\n",
      "Epoch 1/5\n",
      "1875/1875 - 8s - loss: 0.1866 - accuracy: 0.9436 - 8s/epoch - 4ms/step\n",
      "Epoch 2/5\n",
      "1875/1875 - 9s - loss: 0.0789 - accuracy: 0.9752 - 9s/epoch - 5ms/step\n",
      "Epoch 3/5\n",
      "1875/1875 - 10s - loss: 0.0541 - accuracy: 0.9826 - 10s/epoch - 5ms/step\n",
      "Epoch 4/5\n",
      "1875/1875 - 10s - loss: 0.0388 - accuracy: 0.9874 - 10s/epoch - 5ms/step\n",
      "Epoch 5/5\n",
      "1875/1875 - 9s - loss: 0.0335 - accuracy: 0.9893 - 9s/epoch - 5ms/step\n",
      "313/313 - 0s - loss: 0.0781 - accuracy: 0.9803 - 476ms/epoch - 2ms/step\n"
     ]
    },
    {
     "data": {
      "text/plain": [
       "[0.07806123793125153, 0.9803000092506409]"
      ]
     },
     "execution_count": 11,
     "metadata": {},
     "output_type": "execute_result"
    }
   ],
   "source": [
    "# rfunctional API (a bit more flexibile)\n",
    "inputs = keras.Input(shape=(784))\n",
    "x = layers.Dense(512, activation = 'relu')(inputs)\n",
    "x = layers.Dense(256, activation = 'relu')(x)\n",
    "outputs = layers.Dense(10,activation = 'softmax')(x)\n",
    "model = keras.Model(inputs=inputs, outputs = outputs)\n",
    "\n",
    "print(model.summary())\n",
    "\n",
    "model.compile(\n",
    "    loss = keras.losses.SparseCategoricalCrossentropy(from_logits = False),\n",
    "    optimizer = keras.optimizers.Adam(learning_rate = 0.001),\n",
    "    metrics = ['accuracy'],\n",
    ")\n",
    "\n",
    "model.fit(x_train, y_train, batch_size = 32, epochs=5, verbose=2)\n",
    "model.evaluate(x_test, y_test, batch_size = 32, verbose =2)"
   ]
  }
 ],
 "metadata": {
  "kernelspec": {
   "display_name": "Python 3 (ipykernel)",
   "language": "python",
   "name": "python3"
  },
  "language_info": {
   "codemirror_mode": {
    "name": "ipython",
    "version": 3
   },
   "file_extension": ".py",
   "mimetype": "text/x-python",
   "name": "python",
   "nbconvert_exporter": "python",
   "pygments_lexer": "ipython3",
   "version": "3.9.12"
  }
 },
 "nbformat": 4,
 "nbformat_minor": 5
}
